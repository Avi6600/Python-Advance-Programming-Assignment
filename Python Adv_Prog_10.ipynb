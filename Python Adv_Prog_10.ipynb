{
 "cells": [
  {
   "cell_type": "markdown",
   "id": "3cd65460",
   "metadata": {},
   "source": [
    "1. Create a function that takes the width, height and character and returns a\n",
    "   picture frame as a 2D list. \\\n",
    "\n",
    "Examples:\n",
    "* get_frame(4, 5, &quot;#&quot;) ➞ [\n",
    "  [&quot;####&quot;],\n",
    "  [&quot;# #&quot;],\n",
    "  [&quot;# #&quot;],\n",
    "  [&quot;# #&quot;],\n",
    "  [&quot;####&quot;]\n",
    "]\n",
    "### Frame is 4 characters wide and 5 characters tall.\n",
    "\n",
    "* get_frame(10, 3, &quot;*&quot;) ➞ [\n",
    "  [&quot;**********&quot;],\n",
    "  [&quot;* *&quot;],\n",
    "  [&quot;**********&quot;]]\n",
    "  \n",
    "### Frame is 10 characters and wide and 3 characters tall.\n",
    "\n",
    "* get_frame(2, 5, &quot;0&quot;) ➞ &quot;invalid&quot;\n",
    "\n",
    "### Frame&#39;s width is not more than 2."
   ]
  },
  {
   "cell_type": "code",
   "execution_count": 1,
   "id": "65a6c94f",
   "metadata": {},
   "outputs": [
    {
     "name": "stdout",
     "output_type": "stream",
     "text": [
      "['####']\n",
      "['#  #']\n",
      "['#  #']\n",
      "['#  #']\n",
      "['####']\n",
      "\n",
      "['**********']\n",
      "['*        *']\n",
      "['**********']\n",
      "\n",
      "Invalid\n"
     ]
    }
   ],
   "source": [
    "def get_frame(in_width,in_height,in_character):\n",
    "    if in_width <= 2:\n",
    "        print(\"Invalid\")\n",
    "    else:\n",
    "        out_list = []\n",
    "        for height in range(in_height):\n",
    "            if height == 0 or height == in_height-1:\n",
    "                out_list.append([in_width*in_character])\n",
    "            else:\n",
    "                out_list.append([in_character+' '*(in_width-2)+in_character])\n",
    "        for ele in out_list:\n",
    "            print(ele)\n",
    "        print()\n",
    "    \n",
    "get_frame(4, 5, \"#\")\n",
    "get_frame(10, 3, \"*\")\n",
    "get_frame(2, 5, \"0\")"
   ]
  },
  {
   "cell_type": "markdown",
   "id": "97765a07",
   "metadata": {},
   "source": [
    "2. Write three functions:\n",
    "\n",
    "\n",
    "1. boolean_and\n",
    "2. boolean_or\n",
    "3. boolean_xor\n",
    "\n",
    "These functions should evaluate a list of True and False values, starting from  \\\n",
    "the leftmost element and evaluating pairwise. \\\n",
    "\n",
    "Examples:\n",
    "\n",
    "* boolean_and([True, True, False, True]) ➞ False\n",
    "### [True, True, False, True] =&gt; [True, False, True] =&gt; [False, True] =&gt; False\n",
    "* boolean_or([True, True, False, False]) ➞ True\n",
    "### [True, True, False, True] =&gt; [True, False, False] =&gt; [True, False] =&gt; True\n",
    "* boolean_xor([True, True, False, False]) ➞ False\n",
    "### [True, True, False, False] =&gt; [False, False, False] =&gt; [False, False] =&gt;\n",
    "False"
   ]
  },
  {
   "cell_type": "code",
   "execution_count": 2,
   "id": "82facd4d",
   "metadata": {},
   "outputs": [
    {
     "name": "stdout",
     "output_type": "stream",
     "text": [
      "boolean_and([True, True, False, True]) ➞ False\n",
      "boolean_or([True, True, False, False]) ➞ True\n",
      "boolean_xor([True, True, False, False]) ➞ False\n"
     ]
    }
   ],
   "source": [
    "def boolean_and(in_list):\n",
    "    in_list_clone = in_list.copy()\n",
    "    while len(in_list) != 1:\n",
    "        x = in_list.pop(0)\n",
    "        y = in_list.pop(0)\n",
    "        in_list.insert(0,(x and y))\n",
    "    print(f'boolean_and({in_list_clone}) ➞ {in_list[0]}')\n",
    "    \n",
    "def boolean_or(in_list):\n",
    "    in_list_clone = in_list.copy()\n",
    "    while len(in_list) != 1:\n",
    "        x = in_list.pop(0)\n",
    "        y = in_list.pop(0)\n",
    "        in_list.insert(0,(x or y))\n",
    "    print(f'boolean_or({in_list_clone}) ➞ {in_list[0]}')\n",
    "    \n",
    "def boolean_xor(in_list):\n",
    "    in_list_clone = in_list.copy()\n",
    "    while len(in_list) != 1:\n",
    "        x = in_list.pop(0)\n",
    "        y = in_list.pop(0)\n",
    "        in_list.insert(0,(x ^ y))\n",
    "    print(f'boolean_xor({in_list_clone}) ➞ {in_list[0]}')\n",
    "    \n",
    "boolean_and([True, True, False, True])\n",
    "boolean_or([True, True, False, False])\n",
    "boolean_xor([True, True, False, False])"
   ]
  },
  {
   "cell_type": "markdown",
   "id": "a34a483b",
   "metadata": {},
   "source": [
    "3. Create a function that creates a box based on dimension n.\n",
    "\n",
    "Examples:\n",
    "* make_box(5) ➞ [\n",
    "  &quot;#####&quot;,\n",
    "  &quot;# #&quot;,\n",
    "  &quot;# #&quot;,\n",
    "  &quot;# #&quot;,\n",
    "  &quot;#####&quot;\n",
    "  ]\n",
    "* make_box(3) ➞ [\n",
    "  &quot;###&quot;,\n",
    "  &quot;# #&quot;,\n",
    "  &quot;###&quot;\n",
    "  ]\n",
    "* make_box(2) ➞ [\n",
    "  &quot;##&quot;,\n",
    "  &quot;##&quot;\n",
    "  ]\n",
    "* make_box(1) ➞ [\n",
    "  &quot;#&quot;\n",
    "  ]"
   ]
  },
  {
   "cell_type": "code",
   "execution_count": 3,
   "id": "14822019",
   "metadata": {},
   "outputs": [
    {
     "name": "stdout",
     "output_type": "stream",
     "text": [
      "#####\n",
      "#   #\n",
      "#   #\n",
      "#   #\n",
      "#####\n",
      "\n",
      "##\n",
      "##\n",
      "\n",
      "#\n",
      "\n"
     ]
    }
   ],
   "source": [
    "def make_box(in_dimension):\n",
    "    out_list = []\n",
    "    for ele in range(in_dimension):\n",
    "        if ele == 0 or ele == in_dimension-1:\n",
    "            out_list.append('#'*in_dimension)\n",
    "        else:\n",
    "            out_list.append('#'+' '*(in_dimension-2)+'#')\n",
    "    for ele in out_list:\n",
    "        print(ele)\n",
    "    print()\n",
    "    \n",
    "make_box(5)   \n",
    "make_box(2)\n",
    "make_box(1)"
   ]
  },
  {
   "cell_type": "markdown",
   "id": "2816a45f",
   "metadata": {},
   "source": [
    "4. Given a common phrase, return False if any individual word in the phrase \\\n",
    "   contains duplicate letters. Return True otherwise.\n",
    "\n",
    "Examples:\n",
    "\n",
    "* no_duplicate_letters(&quot;Fortune favours the bold.&quot;) ➞ True\n",
    "* no_duplicate_letters(&quot;You can lead a horse to water, but you can&#39;t make him\n",
    "  drink.&quot;) ➞ True\n",
    "* no_duplicate_letters(&quot;Look before you leap.&quot;) ➞ False\n",
    "### Duplicate letters in &quot;Look&quot; and &quot;before&quot;.\n",
    "* no_duplicate_letters(&quot;An apple a day keeps the doctor away.&quot;) ➞ False\n",
    "### Duplicate letters in &quot;apple&quot;, &quot;keeps&quot;, &quot;doctor&quot;, and &quot;away&quot;."
   ]
  },
  {
   "cell_type": "code",
   "execution_count": 4,
   "id": "7fca5312",
   "metadata": {},
   "outputs": [
    {
     "name": "stdout",
     "output_type": "stream",
     "text": [
      "no_duplicate_letters(Fortune favours the bold.) ➞ True\n",
      "no_duplicate_letters(You can lead a horse to water, but you can't make him drink.) ➞ True\n",
      "no_duplicate_letters(Look before you leap.) ➞ False\n",
      "no_duplicate_letters(An apple a day keeps the doctor away.) ➞ False\n"
     ]
    }
   ],
   "source": [
    "def no_duplicate_letters(in_string):\n",
    "    out_put = None\n",
    "    for ele in in_string.split(' '):\n",
    "        if len(ele) == len(set(ele)):\n",
    "            out_put = True\n",
    "        else:\n",
    "            out_put = False\n",
    "            break\n",
    "    print(f'no_duplicate_letters({in_string}) ➞ {out_put}')\n",
    "    \n",
    "no_duplicate_letters(\"Fortune favours the bold.\")\n",
    "no_duplicate_letters(\"You can lead a horse to water, but you can't make him drink.\")\n",
    "no_duplicate_letters(\"Look before you leap.\")\n",
    "no_duplicate_letters(\"An apple a day keeps the doctor away.\")"
   ]
  },
  {
   "cell_type": "markdown",
   "id": "70c2e793",
   "metadata": {},
   "source": [
    "5. Write a regular expression that will match the states that voted yes to \\\n",
    "   President Trump&#39;s impeachment. You must use RegEx positive lookahead.\n",
    "\n",
    "Example:\n",
    "\n",
    "* txt = &quot;Texas = no, California = yes, Florida = yes, Michigan = no&quot;\n",
    "* pattern = &quot;yourregularexpressionhere&quot;\n",
    "* re.findall(pattern, txt) ➞ [&quot;California&quot;, &quot;Florida&quot;]"
   ]
  },
  {
   "cell_type": "code",
   "execution_count": 5,
   "id": "751dc1f9",
   "metadata": {},
   "outputs": [
    {
     "name": "stdout",
     "output_type": "stream",
     "text": [
      "re.findall('\\\\w+(?=\\\\s=\\\\syes*)', 'Texas = no, California = yes, Florida = yes, Michigan = no') ➞ ['California', 'Florida']\n"
     ]
    }
   ],
   "source": [
    "import re\n",
    "txt = \"Texas = no, California = yes, Florida = yes, Michigan = no\"\n",
    "pattern = r'\\w+(?=\\s=\\syes*)'\n",
    "match = re.findall(pattern,txt)\n",
    "print(f're.findall{pattern,txt} ➞ {match}')"
   ]
  },
  {
   "cell_type": "code",
   "execution_count": null,
   "id": "1b507710",
   "metadata": {},
   "outputs": [],
   "source": []
  }
 ],
 "metadata": {
  "kernelspec": {
   "display_name": "Python 3 (ipykernel)",
   "language": "python",
   "name": "python3"
  },
  "language_info": {
   "codemirror_mode": {
    "name": "ipython",
    "version": 3
   },
   "file_extension": ".py",
   "mimetype": "text/x-python",
   "name": "python",
   "nbconvert_exporter": "python",
   "pygments_lexer": "ipython3",
   "version": "3.9.12"
  }
 },
 "nbformat": 4,
 "nbformat_minor": 5
}
